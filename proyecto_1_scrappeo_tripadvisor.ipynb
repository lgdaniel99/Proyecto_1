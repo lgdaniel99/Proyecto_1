{
 "cells": [
  {
   "cell_type": "code",
   "execution_count": 1,
   "id": "472b0b8e-2919-45ca-9af1-490a9c9db838",
   "metadata": {
    "tags": []
   },
   "outputs": [],
   "source": [
    "import requests \n",
    "\n",
    "from bs4 import BeautifulSoup\n",
    "\n",
    "from selenium import webdriver\n",
    "from selenium.webdriver.common.by import By\n",
    "import pandas as pd\n",
    "\n",
    "from time import sleep\n",
    "import os\n",
    "import csv\n",
    "#from dotenv import load_dotenv\n",
    "from pprint import pprint\n",
    "import numpy as np\n",
    "\n",
    "#load_dotenv()"
   ]
  },
  {
   "cell_type": "markdown",
   "id": "6ccb9c81-b622-44b5-812f-5db27863fdac",
   "metadata": {},
   "source": [
    "# Guardar resultados en un csv de forma manual (no sobreescribe, añade a lo que haya)"
   ]
  },
  {
   "cell_type": "markdown",
   "id": "3d483df6-987d-4067-8cd4-fb83dea9dae0",
   "metadata": {},
   "source": [
    "Es importante que esta función así escrita ha de ejecutarse sobre un archivo que ya hayamos creado con las columnas que queremos, porque esta función solo mete datos, pero no le pone los nombres a las columnas. Para hacer eso podemos ejecutar una línea como la siguiente antes de hacer el scrapeo"
   ]
  },
  {
   "cell_type": "code",
   "execution_count": 4,
   "id": "9ed9f006-c900-4b68-b6e0-da5dd6ab42c7",
   "metadata": {
    "tags": []
   },
   "outputs": [],
   "source": [
    "'''ESTO BORRA LOS DATOS QUE HAYA EN EL CSV'''\n",
    "\n",
    "columnas = ['nombre', 'numero de opiniones', 'puntuacion sobre 5', 'ranking', 'precio', 'tipos de cocina', 'dietas especiales', 'ubicaciones', 'puntuaciones desglosadas']\n",
    "csv_name = 'un_nombre_nuevo.csv'\n",
    "\n",
    "with open(csv_name, mode='w', newline='', encoding='utf-8') as csvfile: # abro el csv en modo escritura (borra lo que haya)\n",
    "        writer = csv.writer(csvfile) # creo un objeto writer que permite escribir en el csv\n",
    "        writer.writerow(columnas) # meto una fila que tenga el nombre de las columnas\n",
    "        csvfile.close() # cierro el archivo"
   ]
  },
  {
   "cell_type": "code",
   "execution_count": 2,
   "id": "a6c5bbbd-27ce-4218-bc14-1349e5710462",
   "metadata": {
    "tags": []
   },
   "outputs": [],
   "source": [
    "# El mode='a' hace que siga escribiendo si el archivo ya tiene algo dentro, en vez de sobreescribir el archivo\n",
    "def guardar_csv(data, columnas, csv_name):\n",
    "    with open(csv_name, mode='a', newline='', encoding='utf-8') as csvfile: # abro el csv en modo append\n",
    "        writer = csv.writer(csvfile) # creo un objeto writer que permite escribir en el csv\n",
    "        for i in range(len(data[0])): # creo las filas que tengo que ir metiendo en el csv (hay que ir fila por fila)\n",
    "            row = [field_list[i] for field_list in data]\n",
    "            writer.writerow(row)\n",
    "        csvfile.close() # cierro el archivo"
   ]
  },
  {
   "cell_type": "markdown",
   "id": "734e751f-f6b1-41ab-ba85-68463bdbb6a4",
   "metadata": {},
   "source": [
    "# Guardar la url de la página actual de restaurantes en un .txt por si el código falla \n",
    "(Sobreescribe)"
   ]
  },
  {
   "cell_type": "code",
   "execution_count": 3,
   "id": "c6f843ef-bced-456c-9594-8a6ab5482c65",
   "metadata": {
    "tags": []
   },
   "outputs": [],
   "source": [
    "def guardar_url_txt(browser, txt_name):\n",
    "    with open(txt_name, 'w') as txtfile: # abro el txt\n",
    "        txtfile.write(browser.current_url) # escribo la url actual\n",
    "        txtfile.close() # cierro el txt"
   ]
  },
  {
   "cell_type": "markdown",
   "id": "679467a5-57f9-4af2-9775-a7e47049b9b6",
   "metadata": {},
   "source": [
    "# Sacar la url del archivo .txt"
   ]
  },
  {
   "cell_type": "code",
   "execution_count": 4,
   "id": "52430c15-b27a-4e93-a5f5-caabb3c97027",
   "metadata": {
    "tags": []
   },
   "outputs": [],
   "source": [
    "def sacar_url_txt(txt_name): \n",
    "    with open(txt_name, 'r') as txtfile: # abro el txt en modo 'r', de lectura\n",
    "        return txtfile.read() # retorno lo que arroja la lectura (la url)"
   ]
  },
  {
   "cell_type": "markdown",
   "id": "48afa6c3-7d66-4064-9406-0e7a06d990ff",
   "metadata": {},
   "source": [
    "# WebScrapping a TripAdvisor con Selenium"
   ]
  },
  {
   "cell_type": "code",
   "execution_count": null,
   "id": "a291ea8e-5641-4c05-be81-acc553c9dc3a",
   "metadata": {
    "tags": []
   },
   "outputs": [
    {
     "name": "stdout",
     "output_type": "stream",
     "text": [
      "falla nombres\n",
      "falla nombres\n",
      "falla dietas_especiales\n",
      "falla puntuacion_sobre5\n",
      "falla num_opiniones\n",
      "falla ubicaciones\n",
      "falla nombres\n",
      "falla puntuaciones_desglosadas\n",
      "No hay detalles\n",
      "falla ranking\n",
      "falla dietas_especiales\n",
      "falla dietas_especiales\n",
      "falla tipos_cocina\n",
      "falla dietas_especiales\n",
      "falla puntuacion_sobre5\n",
      "falla num_opiniones\n",
      "falla ubicaciones\n",
      "falla nombres\n",
      "falla puntuaciones_desglosadas\n",
      "No hay detalles\n",
      "falla ranking\n",
      "falla dietas_especiales\n",
      "falla nombres\n",
      "falla dietas_especiales\n",
      "falla dietas_especiales\n",
      "falla tipos_cocina\n",
      "falla dietas_especiales\n",
      "No hay detalles\n",
      "falla dietas_especiales\n",
      "falla tipos_cocina\n",
      "falla dietas_especiales\n",
      "falla tipos_cocina\n",
      "falla dietas_especiales\n",
      "falla dietas_especiales\n",
      "falla tipos_cocina\n",
      "falla dietas_especiales\n",
      "No hay detalles\n",
      "falla tipos_cocina\n",
      "falla dietas_especiales\n",
      "falla dietas_especiales\n",
      "falla tipos_cocina\n",
      "falla dietas_especiales\n",
      "No hay detalles\n",
      "No hay detalles\n",
      "falla tipos_cocina\n",
      "falla dietas_especiales\n",
      "No hay detalles\n",
      "falla tipos_cocina\n",
      "falla dietas_especiales\n",
      "falla dietas_especiales\n",
      "falla dietas_especiales\n",
      "No hay detalles\n",
      "falla tipos_cocina\n",
      "falla dietas_especiales\n",
      "falla dietas_especiales\n",
      "falla tipos_cocina\n",
      "falla dietas_especiales\n",
      "falla tipos_cocina\n",
      "falla dietas_especiales\n",
      "No hay detalles\n",
      "No hay detalles\n",
      "falla dietas_especiales\n",
      "falla dietas_especiales\n",
      "falla tipos_cocina\n",
      "falla dietas_especiales\n",
      "falla tipos_cocina\n",
      "falla dietas_especiales\n",
      "falla dietas_especiales\n",
      "falla tipos_cocina\n",
      "falla dietas_especiales\n",
      "falla dietas_especiales\n",
      "falla dietas_especiales\n",
      "falla dietas_especiales\n",
      "falla tipos_cocina\n",
      "falla dietas_especiales\n",
      "falla dietas_especiales\n",
      "falla tipos_cocina\n",
      "falla dietas_especiales\n",
      "falla dietas_especiales\n",
      "falla tipos_cocina\n",
      "falla dietas_especiales\n",
      "falla tipos_cocina\n",
      "falla dietas_especiales\n",
      "No hay detalles\n",
      "falla dietas_especiales\n",
      "falla dietas_especiales\n",
      "falla dietas_especiales\n",
      "falla tipos_cocina\n",
      "falla dietas_especiales\n",
      "falla dietas_especiales\n",
      "falla dietas_especiales\n",
      "falla tipos_cocina\n",
      "falla dietas_especiales\n",
      "falla tipos_cocina\n",
      "falla dietas_especiales\n",
      "falla tipos_cocina\n",
      "falla dietas_especiales\n",
      "falla dietas_especiales\n",
      "falla tipos_cocina\n",
      "falla dietas_especiales\n",
      "No hay detalles\n",
      "falla dietas_especiales\n",
      "falla tipos_cocina\n",
      "falla dietas_especiales\n",
      "falla tipos_cocina\n",
      "falla dietas_especiales\n",
      "falla dietas_especiales\n",
      "No hay detalles\n",
      "falla tipos_cocina\n",
      "falla dietas_especiales\n"
     ]
    }
   ],
   "source": [
    "# Abrimos Chrome con TripAdvisor\n",
    "browser = webdriver.Chrome()\n",
    "url = sacar_url_txt('current_url_ourense.txt') # saco la url del txt\n",
    "browser.get(url)\n",
    "\n",
    "sleep(2)\n",
    "\n",
    "# Aceptamos cookies\n",
    "browser.find_element(by = By.ID, value = 'onetrust-accept-btn-handler').click()\n",
    "\n",
    "sleep(2)\n",
    "\n",
    "\n",
    "\n",
    "\n",
    "# Esta lista es auxiliar para conseguir las puntuaciones despues\n",
    "tipos_rating = ['Pésimo', 'Malo', 'Normal', 'Muy bueno', 'Excelente']\n",
    "columnas = ['nombre', 'numero de opiniones', 'puntuacion sobre 5', 'ranking', 'precio', 'tipos de cocina', 'dietas especiales', 'ubicaciones', 'puntuaciones desglosadas']\n",
    "\n",
    "\n",
    "while True:\n",
    "    # Creamos listas vacias para rellenar y crear el DataFrame\n",
    "    tipos_cocina = []\n",
    "    puntuacion_sobre5 = []\n",
    "    ranking = []\n",
    "    precios = []\n",
    "    puntuaciones_desglosadas = []\n",
    "    num_opiniones = []\n",
    "    dietas_especiales = []\n",
    "    ubicaciones = []\n",
    "    nombres = []\n",
    "    comidas = []\n",
    "    ventajas = []\n",
    "\n",
    "    # Obtenemos la lista de 30 restaurantes que muestra la primera pagina\n",
    "    sleep(2)\n",
    "    acceso_restaurantes = browser.find_elements(By.CSS_SELECTOR, '.biGQs._P.fiohW.alXOW.NwcxK.GzNcM.ytVPx.UTQMg.RnEEZ.ngXxk')\n",
    "\n",
    "    # Guardamos la ventana de esta primera pagina para volver despues\n",
    "    original_window = browser.current_window_handle\n",
    "    \n",
    "    # Recorremos los restaurantes y extraemos sus datos\n",
    "    for rest in acceso_restaurantes:\n",
    "        sleep(2)\n",
    "        rest.click()\n",
    "        \n",
    "        for window_handle in browser.window_handles:\n",
    "            if window_handle != original_window:\n",
    "                browser.switch_to.window(window_handle)\n",
    "                break\n",
    "                \n",
    "        # Sacamos la sopa de la pagina del restaurante\n",
    "        soup = BeautifulSoup(browser.page_source, 'html.parser')\n",
    "        \n",
    "        try:\n",
    "            puntuacion_sobre5.append(soup.find('span', class_ = 'ZDEqb').text[:3])\n",
    "        except:\n",
    "            puntuacion_sobre5.append(np.nan)\n",
    "            print('falla puntuacion_sobre5')\n",
    "        try:\n",
    "            num_opiniones.append(soup.find('a', class_ = 'IcelI').text.split()[0])\n",
    "        except:\n",
    "            num_opiniones.append(np.nan)\n",
    "            print('falla num_opiniones')\n",
    "        try:\n",
    "            ubicaciones.append(soup.find('span', class_ = 'yEWoV').text)\n",
    "        except:\n",
    "            ubicaciones.append(np.nan)\n",
    "            print('falla ubicaciones')\n",
    "        try:\n",
    "            nombres.append(soup.find('h1', 'HjBfq').text)\n",
    "        except:\n",
    "            nombres.append(np.nan)\n",
    "            print('falla nombres')\n",
    "        try:\n",
    "            lista_temp = []\n",
    "            for idx, tipo_rating in enumerate(tipos_rating):\n",
    "                lista_temp.append(soup.find('div', {'data-value': f'{idx+1}'}).text.strip(tipo_rating))\n",
    "            puntuaciones_desglosadas.append(lista_temp)\n",
    "        except:\n",
    "            puntuaciones_desglosadas.append(np.nan)\n",
    "            print('falla puntuaciones_desglosadas')\n",
    "        \n",
    "        # Los detalles pueden ser de dos tipos dependiendo de si ofrecen informacion del precio o no.\n",
    "        detalles = soup.find_all('div', class_ = 'SrqKb')\n",
    "        if not detalles:\n",
    "            print('No hay detalles')\n",
    "            comidas.append(np.nan)\n",
    "            ventajas.append(np.nan)\n",
    "            precios.append(np.nan)\n",
    "            dietas_especiales.append(np.nan)\n",
    "            tipos_cocina.append(np.nan)\n",
    "        else:  \n",
    "            if '€' in detalles[0].text:\n",
    "                try:\n",
    "                    precios.append(detalles[0].text.split()[::3])\n",
    "                except:\n",
    "                    precios.append(np.nan)\n",
    "                    print('falla precios')\n",
    "                try:\n",
    "                    tipos_cocina.append(detalles[1].text.split(','))\n",
    "                except:\n",
    "                    tipos_cocina.append(np.nan)\n",
    "                    print('falla tipos_cocina')\n",
    "                try:\n",
    "                    dietas_especiales.append(detalles[2].text.split(','))\n",
    "                except:\n",
    "                    dietas_especiales.append(np.nan)\n",
    "                    print('falla dietas_especiales')     \n",
    "                comidas.append(np.nan)\n",
    "                ventajas.append(np.nan)\n",
    "            else:                 \n",
    "                try:\n",
    "                    tipos_cocina.append(detalles[0].text.split(','))\n",
    "                except:\n",
    "                    tipos_cocina.append(np.nan)\n",
    "                    print('falla precios')\n",
    "                try:\n",
    "                    comidas.append(detalles[1].text.split(','))\n",
    "                except:\n",
    "                    comidas.append(np.nan)\n",
    "                    print('falla tipos_cocina')\n",
    "                try:\n",
    "                    ventajas.append(detalles[2].text.split(','))\n",
    "                except:\n",
    "                    ventajas.append(np.nan)\n",
    "                    print('falla dietas_especiales')     \n",
    "                precios.append(np.nan)\n",
    "                dietas_especiales.append(np.nan)\n",
    "        try:\n",
    "            ranking.append(soup.find('b').text[1:])\n",
    "        except:\n",
    "            ranking.append(np.nan)\n",
    "            print('falla ranking')\n",
    "\n",
    "        # cerramos pestaña y volvemos a la ventana original\n",
    "        sleep(4)\n",
    "        if browser.current_window_handle != original_window:\n",
    "            browser.close()\n",
    "            browser.switch_to.window(original_window)\n",
    "            \n",
    "    \n",
    "    # Guardamos los datos    \n",
    "    try:      \n",
    "        data = [nombres, num_opiniones, puntuacion_sobre5, ranking, precios, tipos_cocina, dietas_especiales, ubicaciones, puntuaciones_desglosadas]\n",
    "        guardar_csv(data, columnas, 'datos_ourense.csv')\n",
    "        guardar_url_txt(browser, 'current_url_ourense.txt')\n",
    "    except:\n",
    "        print('No se han podido guardar los datos')\n",
    "        \n",
    "    # Vamos a la siguiente pagina\n",
    "    try:\n",
    "        sleep(3)\n",
    "        browser.find_element(By.CSS_SELECTOR, '[data-smoke-attr=pagination-next-arrow]').click()\n",
    "    except:\n",
    "        print('Hemos acabado')\n",
    "        break"
   ]
  },
  {
   "cell_type": "markdown",
   "id": "94e5242c-e2a2-4f01-95eb-5d4f12d67a72",
   "metadata": {},
   "source": [
    "# Pasando direcciones a coordenadas con Google Geocoding API"
   ]
  },
  {
   "cell_type": "code",
   "execution_count": 135,
   "id": "6ab48cc9-7887-4600-b1a4-2c4c77f79700",
   "metadata": {
    "tags": []
   },
   "outputs": [
    {
     "name": "stdout",
     "output_type": "stream",
     "text": [
      "Latitud: 37.4223878, Longitud: -122.0841877\n"
     ]
    }
   ],
   "source": [
    "def obtener_coordenadas(direccion):\n",
    "    API_KEY = os.getenv('GOOGLE_MAPS_API_KEY')\n",
    "    BASE_URL = 'https://maps.googleapis.com/maps/api/geocode/json'\n",
    "    params = {\n",
    "        'address': direccion,\n",
    "        'key': API_KEY\n",
    "    }\n",
    "    respuesta = requests.get(BASE_URL, params=params)\n",
    "    datos = respuesta.json()\n",
    "    if datos['status'] == 'OK':\n",
    "        ubicacion = datos['results'][0]['geometry']['location']\n",
    "        return ubicacion['lat'], ubicacion['lng']\n",
    "    else:\n",
    "        print('Error:', datos['status'])\n",
    "        return None\n",
    "direccion = '1600 Amphitheatre Parkway, Mountain View, CA'\n",
    "latitud, longitud = obtener_coordenadas(direccion)\n",
    "print(f'Latitud: {latitud}, Longitud: {longitud}')"
   ]
  },
  {
   "cell_type": "markdown",
   "id": "18483b95-adda-4cf2-8d81-4fa4f71e4fc5",
   "metadata": {},
   "source": [
    "# Basura"
   ]
  },
  {
   "cell_type": "code",
   "execution_count": 7,
   "id": "2651d20c-9ec7-4b08-a699-55674bed7a89",
   "metadata": {},
   "outputs": [],
   "source": [
    "soup = BeautifulSoup(browser.page_source, 'html.parser')"
   ]
  },
  {
   "cell_type": "code",
   "execution_count": 8,
   "id": "b691be16-7658-4fcc-8eca-94207219791a",
   "metadata": {
    "tags": []
   },
   "outputs": [],
   "source": [
    "nombres = [x.text for x in soup.find_all('div', class_ = 'result-title')]"
   ]
  },
  {
   "cell_type": "code",
   "execution_count": 23,
   "id": "5013d9e9-3bcc-46ef-832f-79d52d581e29",
   "metadata": {
    "tags": []
   },
   "outputs": [],
   "source": [
    "titulos = soup.find_all('div', class_ = 'result-title')\n",
    "nombres = [x.text for x in titulos]\n",
    "urls = ['https://www.tripadvisor.es'+ x['onclick'].split()[3].strip(\"',\") for x in titulos]"
   ]
  },
  {
   "cell_type": "code",
   "execution_count": 9,
   "id": "b2fec930-cb7c-4e1f-9107-cf7d3884bd9c",
   "metadata": {
    "tags": []
   },
   "outputs": [],
   "source": [
    "soup_reviews = soup.find_all('div', class_ = 'rating-review-count')\n",
    "cantidad_burbujas = [x.find('span')['alt'] for x in soup_reviews]\n",
    "cantidad_opiniones = [x.text for x in soup_reviews]"
   ]
  },
  {
   "cell_type": "code",
   "execution_count": 10,
   "id": "b61e99e3-a669-427b-8fcf-557024bce130",
   "metadata": {
    "tags": []
   },
   "outputs": [],
   "source": [
    "direcciones = [x.text for x in soup.find_all('div', class_ = 'address-text')]"
   ]
  },
  {
   "cell_type": "code",
   "execution_count": 26,
   "id": "c9ad43ff-6393-49d0-a64a-e6d08d4c7031",
   "metadata": {
    "tags": []
   },
   "outputs": [],
   "source": [
    "df = pd.DataFrame([nombres, cantidad_burbujas, cantidad_opiniones, direcciones, urls], ['nombre', 'burbujas', 'opiniones', 'direccion', 'url']).T"
   ]
  },
  {
   "cell_type": "code",
   "execution_count": 15,
   "id": "6ed88b36-2462-4251-b7a1-300981d7fd13",
   "metadata": {
    "tags": []
   },
   "outputs": [
    {
     "data": {
      "text/html": [
       "<div>\n",
       "<style scoped>\n",
       "    .dataframe tbody tr th:only-of-type {\n",
       "        vertical-align: middle;\n",
       "    }\n",
       "\n",
       "    .dataframe tbody tr th {\n",
       "        vertical-align: top;\n",
       "    }\n",
       "\n",
       "    .dataframe thead th {\n",
       "        text-align: right;\n",
       "    }\n",
       "</style>\n",
       "<table border=\"1\" class=\"dataframe\">\n",
       "  <thead>\n",
       "    <tr style=\"text-align: right;\">\n",
       "      <th></th>\n",
       "      <th>nombre</th>\n",
       "      <th>numero de opiniones</th>\n",
       "      <th>puntuacion sobre 5</th>\n",
       "      <th>ranking</th>\n",
       "      <th>precio</th>\n",
       "      <th>tipos de cocina</th>\n",
       "      <th>dietas especiales</th>\n",
       "      <th>ubicaciones</th>\n",
       "      <th>puntuaciones desglosadas</th>\n",
       "    </tr>\n",
       "  </thead>\n",
       "  <tbody>\n",
       "    <tr>\n",
       "      <th>0</th>\n",
       "      <td>Los Montes de Galicia</td>\n",
       "      <td>11.361</td>\n",
       "      <td>5,0</td>\n",
       "      <td>1</td>\n",
       "      <td>[50, 90]</td>\n",
       "      <td>[Española,, Internacional,, Mediterránea,, Sal...</td>\n",
       "      <td>[Opciones veganas,  Opciones sin gluten]</td>\n",
       "      <td>Calle Azcona 46, 28028 Madrid España</td>\n",
       "      <td>[7, 28, 175, 1.082, 7.394]</td>\n",
       "    </tr>\n",
       "    <tr>\n",
       "      <th>1</th>\n",
       "      <td>Trattoria Pulcinella</td>\n",
       "      <td>2766</td>\n",
       "      <td>4,5</td>\n",
       "      <td>15</td>\n",
       "      <td>[11, 29]</td>\n",
       "      <td>[Italiana,, Napolitana,, De, Campania,, Romana...</td>\n",
       "      <td>[Opciones vegetarianas,  Opciones veganas,  Op...</td>\n",
       "      <td>C/ de Regueros, 7, 28004 Madrid España</td>\n",
       "      <td>[34, 39, 104, 320, 1.620]</td>\n",
       "    </tr>\n",
       "    <tr>\n",
       "      <th>2</th>\n",
       "      <td>GastroVía 61</td>\n",
       "      <td>2018</td>\n",
       "      <td>4,5</td>\n",
       "      <td>176</td>\n",
       "      <td>[30, 45]</td>\n",
       "      <td>[Mediterránea,, Europea,, Española,, Saludable]</td>\n",
       "      <td>[Opciones vegetarianas,  Opciones sin gluten]</td>\n",
       "      <td>Calle Flor Baja, 3 Hotel Mayorazgo, 28013 Madr...</td>\n",
       "      <td>[8, 13, 45, 155, 1.296]</td>\n",
       "    </tr>\n",
       "    <tr>\n",
       "      <th>3</th>\n",
       "      <td>Chocolatería San Ginés</td>\n",
       "      <td>23.394</td>\n",
       "      <td>4,0</td>\n",
       "      <td>.º 9</td>\n",
       "      <td>[2, 6]</td>\n",
       "      <td>[Café,, Española]</td>\n",
       "      <td>[Abierto hasta tarde]</td>\n",
       "      <td>Pasadizo de San Ginés 5, 28013 Madrid España</td>\n",
       "      <td>[479, 603, 1.840, 4.195, 6.252]</td>\n",
       "    </tr>\n",
       "  </tbody>\n",
       "</table>\n",
       "</div>"
      ],
      "text/plain": [
       "                   nombre numero de opiniones puntuacion sobre 5 ranking  \\\n",
       "0   Los Montes de Galicia              11.361                5,0       1   \n",
       "1    Trattoria Pulcinella                2766                4,5      15   \n",
       "2            GastroVía 61                2018                4,5     176   \n",
       "3  Chocolatería San Ginés              23.394                4,0    .º 9   \n",
       "\n",
       "     precio                                    tipos de cocina  \\\n",
       "0  [50, 90]  [Española,, Internacional,, Mediterránea,, Sal...   \n",
       "1  [11, 29]  [Italiana,, Napolitana,, De, Campania,, Romana...   \n",
       "2  [30, 45]    [Mediterránea,, Europea,, Española,, Saludable]   \n",
       "3    [2, 6]                                  [Café,, Española]   \n",
       "\n",
       "                                   dietas especiales  \\\n",
       "0           [Opciones veganas,  Opciones sin gluten]   \n",
       "1  [Opciones vegetarianas,  Opciones veganas,  Op...   \n",
       "2      [Opciones vegetarianas,  Opciones sin gluten]   \n",
       "3                              [Abierto hasta tarde]   \n",
       "\n",
       "                                         ubicaciones  \\\n",
       "0               Calle Azcona 46, 28028 Madrid España   \n",
       "1             C/ de Regueros, 7, 28004 Madrid España   \n",
       "2  Calle Flor Baja, 3 Hotel Mayorazgo, 28013 Madr...   \n",
       "3       Pasadizo de San Ginés 5, 28013 Madrid España   \n",
       "\n",
       "          puntuaciones desglosadas  \n",
       "0       [7, 28, 175, 1.082, 7.394]  \n",
       "1        [34, 39, 104, 320, 1.620]  \n",
       "2          [8, 13, 45, 155, 1.296]  \n",
       "3  [479, 603, 1.840, 4.195, 6.252]  "
      ]
     },
     "execution_count": 15,
     "metadata": {},
     "output_type": "execute_result"
    }
   ],
   "source": [
    "data = [nombres, num_opiniones, puntuacion_sobre5, ranking, precios, tipos_cocina, dietas_especiales, ubicaciones, puntuaciones_desglosadas] \n",
    "columnas = ['nombre', 'numero de opiniones', 'puntuacion sobre 5', 'ranking', 'precio', 'tipos de cocina', 'dietas especiales', 'ubicaciones', 'puntuaciones desglosadas']\n",
    "df = pd.DataFrame(data, columnas).T\n",
    "df"
   ]
  },
  {
   "cell_type": "code",
   "execution_count": 111,
   "id": "54fc8783-4328-4df0-bfa6-070713c86916",
   "metadata": {
    "tags": []
   },
   "outputs": [
    {
     "data": {
      "text/plain": [
       "'Bar La Campana'"
      ]
     },
     "execution_count": 111,
     "metadata": {},
     "output_type": "execute_result"
    }
   ],
   "source": [
    "for idx, tipo_rating in enumerate(tipos_rating):\n",
    "            lista_temp.append(soup.find('div', {'data-value': f'{idx+1}'}).text.strip('tipo_rating'))\n",
    "        puntuaciones_desglosadas.append(lista_temp)"
   ]
  },
  {
   "cell_type": "code",
   "execution_count": 10,
   "id": "0b5726fe-fe6d-44b2-85a1-4fd86d91648a",
   "metadata": {
    "tags": []
   },
   "outputs": [
    {
     "data": {
      "text/plain": [
       "'Excelente7.394'"
      ]
     },
     "execution_count": 10,
     "metadata": {},
     "output_type": "execute_result"
    }
   ],
   "source": [
    "soup.find('div', {'data-value': '5'}).text"
   ]
  },
  {
   "cell_type": "code",
   "execution_count": 95,
   "id": "38d87a41-9182-4af0-88af-f27e99ee8d07",
   "metadata": {},
   "outputs": [
    {
     "data": {
      "text/plain": [
       "'Los Montes de Galicia'"
      ]
     },
     "execution_count": 95,
     "metadata": {},
     "output_type": "execute_result"
    }
   ],
   "source": [
    "soup.find('h1', 'HjBfq').text"
   ]
  },
  {
   "cell_type": "code",
   "execution_count": 71,
   "id": "3ab1683b-4433-4bf8-87c8-c657692f099c",
   "metadata": {
    "tags": []
   },
   "outputs": [
    {
     "data": {
      "text/plain": [
       "'1'"
      ]
     },
     "execution_count": 71,
     "metadata": {},
     "output_type": "execute_result"
    }
   ],
   "source": [
    "soup.find('b').text[1:]"
   ]
  },
  {
   "cell_type": "code",
   "execution_count": 91,
   "id": "9b0bf150-c586-4976-b361-569acf48a215",
   "metadata": {
    "tags": []
   },
   "outputs": [],
   "source": [
    "tipos_rating = ['Excelente', 'Muy bueno', 'Normal', 'Malo', 'Pésimo']\n",
    "tipos_rating = tipos_rating[::-1]"
   ]
  },
  {
   "cell_type": "code",
   "execution_count": 92,
   "id": "384d948f-924d-4686-92fe-3379db88d794",
   "metadata": {
    "tags": []
   },
   "outputs": [
    {
     "data": {
      "text/plain": [
       "['Pésimo', 'Malo', 'Normal', 'Muy bueno', 'Excelente']"
      ]
     },
     "execution_count": 92,
     "metadata": {},
     "output_type": "execute_result"
    }
   ],
   "source": [
    "tipos_rating"
   ]
  },
  {
   "cell_type": "code",
   "execution_count": 14,
   "id": "729827c3-f50d-4d46-9223-9ee031719546",
   "metadata": {},
   "outputs": [],
   "source": [
    "def guardar_csv(data, columnas, csv_name):\n",
    "    with open(csv_name, mode='a', newline='', encoding='utf-8') as csvfile:\n",
    "        writer = csv.writer(csvfile)\n",
    "        writer.writerow(columnas)\n",
    "        for i in range(len(data[0])):\n",
    "            row = [field_list[i] for field_list in data]\n",
    "            writer.writerow(row)\n",
    "        csvfile.close()"
   ]
  },
  {
   "cell_type": "code",
   "execution_count": 15,
   "id": "95d65148-00bb-4261-8616-91abe6932d70",
   "metadata": {
    "tags": []
   },
   "outputs": [],
   "source": [
    "guardar_csv(data, columnas, 'datos_tripadvisor3.csv')"
   ]
  },
  {
   "cell_type": "code",
   "execution_count": 13,
   "id": "134ac9cb-9bc3-44d2-bd23-75a4197495fa",
   "metadata": {
    "tags": []
   },
   "outputs": [],
   "source": [
    "data = [nombres, num_opiniones, puntuacion_sobre5, ranking, precios, tipos_cocina, dietas_especiales, ubicaciones, puntuaciones_desglosadas]\n"
   ]
  },
  {
   "cell_type": "code",
   "execution_count": null,
   "id": "8da45d8a-0e69-4753-8a0a-80bf4b6faa13",
   "metadata": {},
   "outputs": [],
   "source": []
  }
 ],
 "metadata": {
  "kernelspec": {
   "display_name": "Python 3 (ipykernel)",
   "language": "python",
   "name": "python3"
  },
  "language_info": {
   "codemirror_mode": {
    "name": "ipython",
    "version": 3
   },
   "file_extension": ".py",
   "mimetype": "text/x-python",
   "name": "python",
   "nbconvert_exporter": "python",
   "pygments_lexer": "ipython3",
   "version": "3.11.4"
  }
 },
 "nbformat": 4,
 "nbformat_minor": 5
}

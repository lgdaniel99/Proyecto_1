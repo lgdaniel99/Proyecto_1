{
 "cells": [
  {
   "cell_type": "code",
   "execution_count": 5,
   "id": "c8654c92-9482-442c-bce1-5681ccc610a6",
   "metadata": {
    "tags": []
   },
   "outputs": [],
   "source": [
    "import math\n",
    "import json\n",
    "import pandas as pd\n",
    "import requests"
   ]
  },
  {
   "cell_type": "code",
   "execution_count": 6,
   "id": "82c1e6a2-a992-4d9a-bbd1-3f66b657f415",
   "metadata": {
    "tags": []
   },
   "outputs": [],
   "source": [
    "\n",
    "API_KEY = 'pati6Y8fiw0iWMkUi.e90a0282a58b37405e0876c7527d0ea91694ee79db95070a430764520937f2db'\n",
    "BASE_ID = 'appUVXd9KqaLweALk'\n",
    "TABLE_NAME = 'tblgabrDr332V06zz'\n",
    "HEADERS = {\n",
    "    'Authorization': f'Bearer {API_KEY}',\n",
    "    'Content-Type': 'application/json'\n",
    "}\n",
    "URL = f'https://api.airtable.com/v0/{BASE_ID}/{TABLE_NAME}'\n",
    "ruta_csv = \"datos_tripadvisor_galicia_limpio.csv\""
   ]
  },
  {
   "cell_type": "code",
   "execution_count": 7,
   "id": "513f51b0-fc13-413c-9d12-4b43e3daa2f7",
   "metadata": {
    "tags": []
   },
   "outputs": [],
   "source": [
    "\n",
    "\n",
    "# Función para limpiar y validar valores antes de ser enviados a JSON\n",
    "def clean_value(value):\n",
    "    if pd.isnull(value):  # Verifica si el valor es nan o None\n",
    "        return None\n",
    "    try:\n",
    "        # Intenta convertir a float si el valor parece ser numérico\n",
    "        float_value = float(value)\n",
    "        if math.isnan(float_value) or math.isinf(float_value):\n",
    "            return None\n",
    "    except (ValueError, TypeError):\n",
    "        # Si la conversión a float falla, se asume que es un string\n",
    "        if isinstance(value, str):\n",
    "            value = value.strip()  # Elimina espacios en blanco de los strings\n",
    "            if value == \"\":  # Si el string está vacío, devuelve None\n",
    "                return None\n",
    "    return value\n",
    "\n",
    "# Función para cargar los datos en Airtable\n",
    "def cargar_datos_airtable(csv_path, api_url, api_key):\n",
    "    headers = {\n",
    "        \"Authorization\": f\"Bearer {api_key}\",\n",
    "        \"Content-Type\": \"application/json\"\n",
    "    }\n",
    "\n",
    "    data = pd.read_csv(csv_path)\n",
    "\n",
    "    for _, row in data.iterrows():\n",
    "        # Limpia cada valor en la fila antes de cargarlo\n",
    "        cleaned_row = {key: clean_value(value) for key, value in row.items()}\n",
    "\n",
    "        # Construye el payload con los valores limpios\n",
    "        payload = {\n",
    "            \"fields\": cleaned_row\n",
    "        }\n",
    "\n",
    "        # Hace la solicitud POST a la API de Airtable\n",
    "        response = requests.post(api_url, headers=headers, json=payload)\n",
    "        if response.status_code != 200:\n",
    "            print(f\"Error al cargar {row['nombre']}: {response.text}\")\n",
    "\n",
    "results = cargar_datos_airtable(ruta_csv, URL, API_KEY)\n"
   ]
  },
  {
   "cell_type": "code",
   "execution_count": 8,
   "id": "1988dcbc-0db8-4fbc-8b17-f94cec34ab59",
   "metadata": {
    "tags": []
   },
   "outputs": [],
   "source": [
    "\n",
    "API_KEY = 'pati6Y8fiw0iWMkUi.e90a0282a58b37405e0876c7527d0ea91694ee79db95070a430764520937f2db'\n",
    "BASE_ID = 'appUVXd9KqaLweALk'\n",
    "TABLE_NAME = 'tblm6lBpig1dEUx5o'\n",
    "HEADERS = {\n",
    "    'Authorization': f'Bearer {API_KEY}',\n",
    "    'Content-Type': 'application/json'\n",
    "}\n",
    "URL = f'https://api.airtable.com/v0/{BASE_ID}/{TABLE_NAME}'\n",
    "ruta_csv = \"datos_tripadvisor_galicia_limpio.csv\""
   ]
  },
  {
   "cell_type": "code",
   "execution_count": null,
   "id": "29eb843f-168f-49d2-aa68-86348d37e1a2",
   "metadata": {
    "tags": []
   },
   "outputs": [],
   "source": [
    "\n",
    "\n",
    "# Función para limpiar y validar valores antes de ser enviados a JSON\n",
    "def clean_value(value):\n",
    "    if pd.isnull(value):  # Verifica si el valor es nan o None\n",
    "        return None\n",
    "    try:\n",
    "        # Intenta convertir a float si el valor parece ser numérico\n",
    "        float_value = float(value)\n",
    "        if math.isnan(float_value) or math.isinf(float_value):\n",
    "            return None\n",
    "    except (ValueError, TypeError):\n",
    "        # Si la conversión a float falla, se asume que es un string\n",
    "        if isinstance(value, str):\n",
    "            value = value.strip()  # Elimina espacios en blanco de los strings\n",
    "            if value == \"\":  # Si el string está vacío, devuelve None\n",
    "                return None\n",
    "    return value\n",
    "\n",
    "# Función para cargar los datos en Airtable\n",
    "def cargar_datos_airtable(csv_path, api_url, api_key):\n",
    "    headers = {\n",
    "        \"Authorization\": f\"Bearer {api_key}\",\n",
    "        \"Content-Type\": \"application/json\"\n",
    "    }\n",
    "\n",
    "    data = pd.read_csv(csv_path)\n",
    "\n",
    "    for _, row in data.iterrows():\n",
    "        # Limpia cada valor en la fila antes de cargarlo\n",
    "        cleaned_row = {key: clean_value(value) for key, value in row.items()}\n",
    "\n",
    "        # Construye el payload con los valores limpios\n",
    "        payload = {\n",
    "            \"fields\": cleaned_row\n",
    "        }\n",
    "\n",
    "        # Hace la solicitud POST a la API de Airtable\n",
    "        response = requests.post(api_url, headers=headers, json=payload)\n",
    "        if response.status_code != 200:\n",
    "            print(f\"Error al cargar {row['nombre']}: {response.text}\")\n",
    "\n",
    "results = cargar_datos_airtable(ruta_csv, URL, API_KEY)\n",
    "\n"
   ]
  },
  {
   "cell_type": "code",
   "execution_count": null,
   "id": "66704e7e-ab19-4977-bf72-1bf732f75c09",
   "metadata": {},
   "outputs": [],
   "source": []
  }
 ],
 "metadata": {
  "kernelspec": {
   "display_name": "Python 3 (ipykernel)",
   "language": "python",
   "name": "python3"
  },
  "language_info": {
   "codemirror_mode": {
    "name": "ipython",
    "version": 3
   },
   "file_extension": ".py",
   "mimetype": "text/x-python",
   "name": "python",
   "nbconvert_exporter": "python",
   "pygments_lexer": "ipython3",
   "version": "3.11.4"
  }
 },
 "nbformat": 4,
 "nbformat_minor": 5
}
